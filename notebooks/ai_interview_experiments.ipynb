{
 "cells": [
  {
   "cell_type": "markdown",
   "metadata": {},
   "source": [
    "# AI Interview System: Experiments & Analysis\n",
    "\n",
    "This notebook is for testing, analyzing, and experimenting with the AI Interview System agents.\n",
    "\n",
    "---"
   ]
  },
  {
   "cell_type": "markdown",
   "metadata": {},
   "source": [
    "## 1. Setup & Imports"
   ]
  },
  {
   "cell_type": "code",
   "metadata": {},
   "source": [
    "import os\n",
    "from dotenv import load_dotenv\n",
    "load_dotenv()\n",
    "\n",
    "GOOGLE_API_KEY = os.getenv('GOOGLE_API_KEY')\n",
    "assert GOOGLE_API_KEY, 'GOOGLE_API_KEY not set'\n",
    "\n",
    "# Agent imports\n",
    "from src.agents.persona_generator import PersonaGenerator\n",
    "from src.agents.speech_manager import SpeechManager\n",
    "from src.agents.question_manager import QuestionManager\n",
    "from src.agents.response_evaluator import ResponseEvaluator\n",
    "from src.agents.report_generator import ReportGenerator"
   ]
  },
  {
   "cell_type": "markdown",
   "metadata": {},
   "source": [
    "## 2. Persona Generator: Test & Customization"
   ]
  },
  {
   "cell_type": "code",
   "metadata": {},
   "source": [
    "persona_agent = PersonaGenerator(GOOGLE_API_KEY)\n",
    "persona = persona_agent.generate_persona('TechCorp', 'Data Scientist', {\n",
    "    'interview_style': 'casual',\n",
    "    'focus_areas': ['machine learning', 'communication'],\n",
    "    'tone': 'friendly',\n",
    "    'duration': '30 minutes'\n",
    "})\n",
    "print(persona)"
   ]
  },
  {
   "cell_type": "markdown",
   "metadata": {},
   "source": [
    "## 3. Question Manager: Knowledge Base & Retrieval"
   ]
  },
  {
   "cell_type": "code",
   "metadata": {},
   "source": [
    "question_agent = QuestionManager(GOOGLE_API_KEY)\n",
    "# Add sample questions (if needed)\n",
    "sample_questions = [\n",
    "    {'text': 'What is overfitting?', 'category': 'technical', 'role': 'Data Scientist', 'difficulty': 'easy'},\n",
    "    {'text': 'Describe a time you solved a difficult problem.', 'category': 'behavioral', 'role': 'Data Scientist', 'difficulty': 'medium'}\n",
    "]\n",
    "question_agent.add_questions_to_knowledge_base(sample_questions)\n",
    "\n",
    "# Retrieve questions\n",
    "questions = question_agent.get_questions_by_role('Data Scientist', category='technical')\n",
    "print('Technical Questions:', questions)"
   ]
  },
  {
   "cell_type": "markdown",
   "metadata": {},
   "source": [
    "## 4. Response Evaluator: LLM & Rule-based Scoring"
   ]
  },
  {
   "cell_type": "code",
   "metadata": {},
   "source": [
    "evaluator = ResponseEvaluator(GOOGLE_API_KEY)\n",
    "question = 'What is overfitting?'\n",
    "response = 'Overfitting is when a model learns the training data too well and fails to generalize.'\n",
    "eval_result = evaluator.evaluate_response(question, response, 'Data Scientist', 'technical')\n",
    "print(eval_result)"
   ]
  },
  {
   "cell_type": "markdown",
   "metadata": {},
   "source": [
    "## 5. Report Generator: Interview Report Creation"
   ]
  },
  {
   "cell_type": "code",
   "metadata": {},
   "source": [
    "report_agent = ReportGenerator(GOOGLE_API_KEY)\n",
    "candidate_info = {'name': 'Jane Doe', 'email': 'jane@example.com'}\n",
    "session_eval = evaluator.evaluate_interview_session([eval_result])\n",
    "report = report_agent.generate_interview_report(candidate_info, session_eval, [eval_result], 'Data Scientist', 'TechCorp')\n",
    "print(report['executive_summary'])"
   ]
  },
  {
   "cell_type": "markdown",
   "metadata": {},
   "source": [
    "## 6. (Optional) Speech Manager: Voice Input/Output Demo\n",
    "*Uncomment and run if you want to test speech-to-text and TTS locally.*"
   ]
  },
  {
   "cell_type": "code",
   "metadata": {},
   "source": [
    "# speech_agent = SpeechManager()\n",
    "# print('Testing microphone...')\n",
    "# speech_agent.test_microphone()\n",
    "# speech_agent.text_to_speech('This is a test of the AI Interview System.')"
   ]
  }
 ],
 "metadata": {
  "kernelspec": {
   "display_name": "Python 3",
   "language": "python",
   "name": "python3"
  },
  "language_info": {
   "name": "python",
   "version": "3.10"
  }
 },
 "nbformat": 4,
 "nbformat_minor": 2
}
 